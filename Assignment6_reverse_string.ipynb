In [7]:
str=input("enter a string")
txt = str[::-1]
print(txt)
enter a string meghana
anahgem
