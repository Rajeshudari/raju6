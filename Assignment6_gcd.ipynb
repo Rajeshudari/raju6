In [3]:
def gcd(a,b): 
    if (b == 0): 
         return a 
    return gcd(b, a%b) 
a = int(input("enter a value"))
b = int(input("enter b value"))
if(gcd(a, b)): 
    print('GCD of', a, 'and', b, 'is', gcd(a, b)) 
else: 
    print('not found')
enter a value98
enter b value56
GCD of 98 and 56 is 14
