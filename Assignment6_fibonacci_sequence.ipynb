In [7]:
n = int(input("How many terms? "))
n1 =0
n2=1
count = 0
if n <= 0:
   print("Please enter a positive integer")
elif n== 1:
   print(n1)
else:
   print("Fibonacci sequence:")
   while count < n:
       print(n1)
       nth = n1 + n2
       n1 = n2
       n2 = nth
       count += 1
How many terms? 5
Fibonacci sequence:
0
1
1
2
3
